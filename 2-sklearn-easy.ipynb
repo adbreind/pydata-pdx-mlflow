{
 "cells": [
  {
   "cell_type": "markdown",
   "id": "alert-calculator",
   "metadata": {},
   "source": [
    "# Scikit-learn Example, the Easy Way\n",
    "\n",
    "MLflow has autologging capabilities pre-configured for a variety of ML tools: https://mlflow.org/docs/latest/tracking.html#automatic-logging"
   ]
  },
  {
   "cell_type": "code",
   "execution_count": null,
   "id": "unauthorized-fairy",
   "metadata": {},
   "outputs": [],
   "source": [
    "import mlflow\n",
    "\n",
    "mlflow.sklearn.autolog()"
   ]
  },
  {
   "cell_type": "code",
   "execution_count": null,
   "id": "visible-spotlight",
   "metadata": {},
   "outputs": [],
   "source": [
    "def train(in_alpha, in_l1_ratio):\n",
    "    \n",
    "    import pandas as pd\n",
    "    import numpy as np\n",
    "    from sklearn.model_selection import train_test_split\n",
    "    from sklearn.linear_model import ElasticNet\n",
    "    \n",
    "    np.random.seed(40)\n",
    "\n",
    "    data = pd.read_csv('data/winequality-red.csv', sep=';')\n",
    "    \n",
    "    # Split the data into training and test sets. (0.75, 0.25) split.\n",
    "    train, test = train_test_split(data)\n",
    "\n",
    "    # The predicted column is \"quality\" which is a scalar from [3, 9]\n",
    "    train_x = train.drop([\"quality\"], axis=1)\n",
    "    test_x = test.drop([\"quality\"], axis=1)\n",
    "    train_y = train[[\"quality\"]]\n",
    "    test_y = test[[\"quality\"]]\n",
    "\n",
    "    # Set default values if no alpha is provided\n",
    "    if float(in_alpha) is None:\n",
    "        alpha = 0.5\n",
    "    else:\n",
    "        alpha = float(in_alpha)\n",
    "\n",
    "    # Set default values if no l1_ratio is provided\n",
    "    if float(in_l1_ratio) is None:\n",
    "        l1_ratio = 0.5\n",
    "    else:\n",
    "        l1_ratio = float(in_l1_ratio)\n",
    "\n",
    "    with mlflow.start_run() as run:\n",
    "        lr = ElasticNet(alpha=alpha, l1_ratio=l1_ratio, random_state=42)\n",
    "        lr.fit(train_x, train_y)\n",
    "        print(\"Logged data and model in run {}\".format(run.info.run_id))"
   ]
  },
  {
   "cell_type": "code",
   "execution_count": null,
   "id": "velvet-eleven",
   "metadata": {},
   "outputs": [],
   "source": [
    "train(0.5, 0.5)\n",
    "\n",
    "train(0.2, 0.2)\n",
    "\n",
    "train(0.1, 0.1)"
   ]
  },
  {
   "cell_type": "markdown",
   "id": "unavailable-shield",
   "metadata": {},
   "source": [
    "Take a close look at everything that has been logged/captured!\n",
    "\n",
    "This may or may not match ideal workflow, but it's a huge step forward with minimal effort."
   ]
  },
  {
   "cell_type": "code",
   "execution_count": null,
   "id": "flying-enlargement",
   "metadata": {},
   "outputs": [],
   "source": []
  }
 ],
 "metadata": {
  "kernelspec": {
   "display_name": "Python 3",
   "language": "python",
   "name": "python3"
  },
  "language_info": {
   "codemirror_mode": {
    "name": "ipython",
    "version": 3
   },
   "file_extension": ".py",
   "mimetype": "text/x-python",
   "name": "python",
   "nbconvert_exporter": "python",
   "pygments_lexer": "ipython3",
   "version": "3.7.0"
  }
 },
 "nbformat": 4,
 "nbformat_minor": 5
}
