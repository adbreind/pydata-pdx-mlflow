{
 "cells": [
  {
   "cell_type": "markdown",
   "id": "assured-disaster",
   "metadata": {},
   "source": [
    "# PyData PDX Lightning Talk: Experiment Tracking with MLflow\n",
    "\n",
    "\n",
    "## What is MLflow?\n",
    "\n",
    "<img src='images/mlflow.png' width=500>\n",
    "\n",
    "MLflow is an OSS (Linux Foundation) ML platform, meaning it *supports* standardization and best practices in ML-related tasks:\n",
    "* Experiment tracking\n",
    "* Artifact repository (e.g., trained models)\n",
    "* Multistep workflow support\n",
    "* Model registry (lineage, versioning, etc.)\n",
    "* Model serving\n",
    "\n",
    "Where it fits into the industry\n",
    "* Created in 2018\n",
    "* Work-in-progress: it doesn't do \"everything\" and continues to evolve\n",
    "* Alternative: lots of proprietary ML platforms; YMMV\n",
    "* Lots of OSS pieces, a few OSS platforms: cf. Kubeflow, Seldon Core, Pachyderm, others\n",
    "    * Also \"works in progress\"\n",
    "\n",
    "Why MLflow today?\n",
    "* Start lightweight (most others assume + require Kubernetes)\n",
    "* Scale if needed"
   ]
  },
  {
   "cell_type": "markdown",
   "id": "valid-moses",
   "metadata": {},
   "source": [
    "## Today: First Steps w Experiment Tracking\n",
    "\n",
    "__What is experiment tracking?__\n",
    "\n",
    "Collecting information about ML trials so that we can compare, review, and generally maintain order.\n",
    "\n",
    "Specifically, we may want to log\n",
    "* Model configuration / hyperparams\n",
    "* Training progress\n",
    "* Train/validation/test scores\n",
    "* Arbitrary properties with business value, such as \"dollar cost to train\" or \"cost per 1000 predictions\""
   ]
  },
  {
   "cell_type": "markdown",
   "id": "ranking-september",
   "metadata": {},
   "source": [
    "## Hello Tracking World with MLflow\n",
    "\n",
    "1. Open a terminal from the JupyterLab launcher and run `mlflow ui`\n",
    "2. Open a new browser tab to the current URL *but* where it says `lab` enter `proxy/5000/`\n",
    "3. Let's record something:"
   ]
  },
  {
   "cell_type": "code",
   "execution_count": 3,
   "id": "annoying-alias",
   "metadata": {},
   "outputs": [],
   "source": [
    "from mlflow import log_metric, log_param, end_run\n",
    "\n",
    "log_param(\"foo_setting\", 42)\n",
    "log_param(\"bar_setting\", 43)\n",
    "\n",
    "for i in range(10):\n",
    "    log_metric(\"score\", i)\n",
    "    \n",
    "end_run()"
   ]
  },
  {
   "cell_type": "markdown",
   "id": "disabled-restriction",
   "metadata": {},
   "source": [
    "4. Check the UI (you may have to refresh the UI tab)\n",
    "\n",
    "This \"minimally invasive on-ramp\" is a great feature of MLflow. We can do more things, and more complicated things, but we don't *have* to on day one."
   ]
  },
  {
   "cell_type": "code",
   "execution_count": null,
   "id": "personal-format",
   "metadata": {},
   "outputs": [],
   "source": []
  }
 ],
 "metadata": {
  "kernelspec": {
   "display_name": "Python 3",
   "language": "python",
   "name": "python3"
  },
  "language_info": {
   "codemirror_mode": {
    "name": "ipython",
    "version": 3
   },
   "file_extension": ".py",
   "mimetype": "text/x-python",
   "name": "python",
   "nbconvert_exporter": "python",
   "pygments_lexer": "ipython3",
   "version": "3.7.0"
  }
 },
 "nbformat": 4,
 "nbformat_minor": 5
}
